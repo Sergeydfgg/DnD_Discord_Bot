{
 "cells": [
  {
   "cell_type": "code",
   "execution_count": 1,
   "id": "91f0472a",
   "metadata": {},
   "outputs": [],
   "source": [
    "test_dict = {\n",
    "    1:\"ступень 1\",\n",
    "    2:\"ступень 2\",\n",
    "    3:\"ступень 3\",\n",
    "}"
   ]
  },
  {
   "cell_type": "code",
   "execution_count": 19,
   "id": "2f527da0",
   "metadata": {},
   "outputs": [
    {
     "name": "stdout",
     "output_type": "stream",
     "text": [
      "ступень 1\n",
      "ступень 1\n",
      "ступень 1\n",
      "ступень 2\n",
      "ступень 2\n",
      "ступень 2\n",
      "ступень 3\n",
      "ступень 3\n",
      "ступень 3\n",
      "ступень 3\n"
     ]
    }
   ],
   "source": [
    "for my_val in range(1, 11):\n",
    "    print(test_dict[(lambda val: val // 3 + 1 if val % 3 != 0 else val // 3)(my_val)]) if my_val != 10 else print(\"ступень 3\")"
   ]
  },
  {
   "cell_type": "code",
   "execution_count": null,
   "id": "c9f49a9e",
   "metadata": {},
   "outputs": [],
   "source": []
  }
 ],
 "metadata": {
  "kernelspec": {
   "display_name": "Python 3 (ipykernel)",
   "language": "python",
   "name": "python3"
  },
  "language_info": {
   "codemirror_mode": {
    "name": "ipython",
    "version": 3
   },
   "file_extension": ".py",
   "mimetype": "text/x-python",
   "name": "python",
   "nbconvert_exporter": "python",
   "pygments_lexer": "ipython3",
   "version": "3.9.6"
  }
 },
 "nbformat": 4,
 "nbformat_minor": 5
}

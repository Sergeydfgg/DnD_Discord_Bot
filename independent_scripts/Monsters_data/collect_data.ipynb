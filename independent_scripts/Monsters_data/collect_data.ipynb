{
 "cells": [
  {
   "cell_type": "code",
   "execution_count": 2,
   "id": "45203b42",
   "metadata": {},
   "outputs": [],
   "source": [
    "import requests\n",
    "import json\n",
    "from joblib import Parallel, delayed"
   ]
  },
  {
   "cell_type": "code",
   "execution_count": 3,
   "id": "b47b12e0",
   "metadata": {},
   "outputs": [],
   "source": [
    "with open('buffer.txt', 'r') as f:\n",
    "    data = f.read()\n",
    "monster_names = [val.split('\\t')[0] for val in data.split('\\n')]"
   ]
  },
  {
   "cell_type": "code",
   "execution_count": 4,
   "id": "0b081f4e",
   "metadata": {},
   "outputs": [],
   "source": [
    "monster_names = list(map(str.lower, monster_names))\n",
    "monster_names = [val.replace(' ', '-') for val in monster_names]"
   ]
  },
  {
   "cell_type": "code",
   "execution_count": 21,
   "id": "1248d3dc",
   "metadata": {},
   "outputs": [
    {
     "data": {
      "text/plain": [
       "['frog',\n",
       " 'sea-horse',\n",
       " 'awakened-shrub',\n",
       " 'baboon',\n",
       " 'badger',\n",
       " 'bat',\n",
       " 'cat',\n",
       " 'commoner',\n",
       " 'crab',\n",
       " 'cranium-rat']"
      ]
     },
     "execution_count": 21,
     "metadata": {},
     "output_type": "execute_result"
    }
   ],
   "source": [
    "monster_names[:10]"
   ]
  },
  {
   "cell_type": "code",
   "execution_count": 14,
   "id": "d68841c0",
   "metadata": {},
   "outputs": [],
   "source": [
    "def get_data(monster: str) -> None:\n",
    "    url = f'https://www.dnd5eapi.co/api/monsters/{monster}'\n",
    "\n",
    "    headers = {'User-Agent': \"Mozilla/5.0 (Windows NT 10.0; Win64; x64) \"\n",
    "                                 \"AppleWebKit/537.36 (KHTML, like Gecko) Chrome/115.0.0.0 Safari/537.36\"}\n",
    "    r = requests.get(url=url, headers=headers)\n",
    "    if r.status_code == 200:\n",
    "        data = r.json()\n",
    "        return data"
   ]
  },
  {
   "cell_type": "code",
   "execution_count": 17,
   "id": "ca75ae3e",
   "metadata": {},
   "outputs": [],
   "source": [
    "monsters_data = Parallel(n_jobs=-1)(delayed(get_data)(monster) for monster in monster_names)"
   ]
  },
  {
   "cell_type": "code",
   "execution_count": 18,
   "id": "755469c0",
   "metadata": {},
   "outputs": [
    {
     "data": {
      "text/plain": [
       "697"
      ]
     },
     "execution_count": 18,
     "metadata": {},
     "output_type": "execute_result"
    }
   ],
   "source": [
    "len(monsters_data)"
   ]
  },
  {
   "cell_type": "code",
   "execution_count": 19,
   "id": "49580d7c",
   "metadata": {
    "scrolled": true
   },
   "outputs": [
    {
     "data": {
      "text/plain": [
       "{'index': 'frog',\n",
       " 'name': 'Frog',\n",
       " 'desc': 'A frog has no effective attacks. It feeds on small insects and typically dwells near water, in trees, or underground. The frog’s statistics can also be used to represent a toad.',\n",
       " 'size': 'Tiny',\n",
       " 'type': 'beast',\n",
       " 'alignment': 'unaligned',\n",
       " 'armor_class': [{'type': 'dex', 'value': 11}],\n",
       " 'hit_points': 1,\n",
       " 'hit_dice': '1d4',\n",
       " 'hit_points_roll': '1d4-1',\n",
       " 'speed': {'walk': '20 ft.', 'swim': '20 ft.'},\n",
       " 'strength': 1,\n",
       " 'dexterity': 13,\n",
       " 'constitution': 8,\n",
       " 'intelligence': 1,\n",
       " 'wisdom': 8,\n",
       " 'charisma': 3,\n",
       " 'proficiencies': [{'value': 1,\n",
       "   'proficiency': {'index': 'skill-perception',\n",
       "    'name': 'Skill: Perception',\n",
       "    'url': '/api/proficiencies/skill-perception'}},\n",
       "  {'value': 3,\n",
       "   'proficiency': {'index': 'skill-stealth',\n",
       "    'name': 'Skill: Stealth',\n",
       "    'url': '/api/proficiencies/skill-stealth'}}],\n",
       " 'damage_vulnerabilities': [],\n",
       " 'damage_resistances': [],\n",
       " 'damage_immunities': [],\n",
       " 'condition_immunities': [],\n",
       " 'senses': {'darkvision': '30 ft.', 'passive_perception': 11},\n",
       " 'languages': '',\n",
       " 'challenge_rating': 0,\n",
       " 'xp': 0,\n",
       " 'special_abilities': [{'name': 'Amphibious',\n",
       "   'desc': 'The frog can breathe air and water'},\n",
       "  {'name': 'Standing Leap',\n",
       "   'desc': \"The frog's long jump is up to 10 ft. and its high jump is up to 5 ft., with or without a running start.\"}],\n",
       " 'url': '/api/monsters/frog',\n",
       " 'actions': [],\n",
       " 'legendary_actions': []}"
      ]
     },
     "execution_count": 19,
     "metadata": {},
     "output_type": "execute_result"
    }
   ],
   "source": [
    "monsters_data[0]"
   ]
  },
  {
   "cell_type": "code",
   "execution_count": 20,
   "id": "fa20aaea",
   "metadata": {},
   "outputs": [],
   "source": [
    "with open('monsters_data.js', 'w', encoding='utf-8') as data_file:\n",
    "        js_obj = json.dumps(monsters_data, indent=4, ensure_ascii=False).encode('utf8')\n",
    "        data_file.write(js_obj.decode())"
   ]
  },
  {
   "cell_type": "code",
   "execution_count": null,
   "id": "debdc4ac",
   "metadata": {},
   "outputs": [],
   "source": []
  }
 ],
 "metadata": {
  "kernelspec": {
   "display_name": "Python 3 (ipykernel)",
   "language": "python",
   "name": "python3"
  },
  "language_info": {
   "codemirror_mode": {
    "name": "ipython",
    "version": 3
   },
   "file_extension": ".py",
   "mimetype": "text/x-python",
   "name": "python",
   "nbconvert_exporter": "python",
   "pygments_lexer": "ipython3",
   "version": "3.9.6"
  }
 },
 "nbformat": 4,
 "nbformat_minor": 5
}
